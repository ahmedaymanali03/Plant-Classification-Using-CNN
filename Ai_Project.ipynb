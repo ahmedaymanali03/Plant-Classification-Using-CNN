{
  "nbformat": 4,
  "nbformat_minor": 0,
  "metadata": {
    "colab": {
      "provenance": [],
      "include_colab_link": true
    },
    "kernelspec": {
      "name": "python3",
      "display_name": "Python 3"
    },
    "language_info": {
      "name": "python"
    }
  },
  "cells": [
    {
      "cell_type": "markdown",
      "metadata": {
        "id": "view-in-github",
        "colab_type": "text"
      },
      "source": [
        "<a href=\"https://colab.research.google.com/github/ahmedaymanali03/Plant-Classification-Using-CNN/blob/main/Ai_Project.ipynb\" target=\"_parent\"><img src=\"https://colab.research.google.com/assets/colab-badge.svg\" alt=\"Open In Colab\"/></a>"
      ]
    },
    {
      "cell_type": "code",
      "execution_count": 1,
      "metadata": {
        "id": "dZYYVBp2qgS4",
        "colab": {
          "base_uri": "https://localhost:8080/"
        },
        "outputId": "79f131e6-20dd-41a0-edc8-d8fd4d383689"
      },
      "outputs": [
        {
          "output_type": "stream",
          "name": "stdout",
          "text": [
            "ls: cannot access '!unzip': No such file or directory\n",
            "ls: cannot access '.zip': No such file or directory\n"
          ]
        }
      ],
      "source": [
        "%ls !unzip .zip"
      ]
    },
    {
      "cell_type": "code",
      "source": [],
      "metadata": {
        "id": "2xbTpfsCQ4p5"
      },
      "execution_count": null,
      "outputs": []
    },
    {
      "cell_type": "code",
      "source": [],
      "metadata": {
        "id": "JTKPUVIlRA4k"
      },
      "execution_count": null,
      "outputs": []
    }
  ]
}